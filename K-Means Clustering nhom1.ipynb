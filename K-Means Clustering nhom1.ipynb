{
 "cells": [
  {
   "cell_type": "markdown",
   "metadata": {},
   "source": [
    "# K Means Clustering Applications\n",
    "\n",
    "In this notebook, I give you several basic applications of K Means Clustering algorithm (clustering in general)"
   ]
  },
  {
   "cell_type": "markdown",
   "metadata": {},
   "source": [
    "## Import libraries"
   ]
  },
  {
   "cell_type": "code",
   "execution_count": 1,
   "metadata": {},
   "outputs": [],
   "source": [
    "import numpy as np\n",
    "import pandas as pd\n",
    "import matplotlib.pyplot as plt\n",
    "import seaborn as sns\n",
    "%matplotlib inline"
   ]
  },
  {
   "cell_type": "markdown",
   "metadata": {},
   "source": [
    "## Import dataset\n"
   ]
  },
  {
   "cell_type": "code",
   "execution_count": 7,
   "metadata": {},
   "outputs": [],
   "source": [
    "\n",
    "data = 'CC GENERAL.csv'\n",
    "df = pd.read_csv(data)\n"
   ]
  },
  {
   "cell_type": "markdown",
   "metadata": {},
   "source": [
    "### Kiểm tra hình dạng của tập dữ liệu"
   ]
  },
  {
   "cell_type": "code",
   "execution_count": 18,
   "metadata": {},
   "outputs": [
    {
     "data": {
      "text/plain": [
       "(8950, 16)"
      ]
     },
     "execution_count": 18,
     "metadata": {},
     "output_type": "execute_result"
    }
   ],
   "source": [
    "df.shape"
   ]
  },
  {
   "cell_type": "markdown",
   "metadata": {},
   "source": [
    "### Preview the dataset"
   ]
  },
  {
   "cell_type": "code",
   "execution_count": 8,
   "metadata": {},
   "outputs": [
    {
     "data": {
      "text/html": [
       "<div>\n",
       "<style scoped>\n",
       "    .dataframe tbody tr th:only-of-type {\n",
       "        vertical-align: middle;\n",
       "    }\n",
       "\n",
       "    .dataframe tbody tr th {\n",
       "        vertical-align: top;\n",
       "    }\n",
       "\n",
       "    .dataframe thead th {\n",
       "        text-align: right;\n",
       "    }\n",
       "</style>\n",
       "<table border=\"1\" class=\"dataframe\">\n",
       "  <thead>\n",
       "    <tr style=\"text-align: right;\">\n",
       "      <th></th>\n",
       "      <th>CUST_ID</th>\n",
       "      <th>BALANCE</th>\n",
       "      <th>BALANCE_FREQUENCY</th>\n",
       "      <th>PURCHASES</th>\n",
       "      <th>ONEOFF_PURCHASES</th>\n",
       "      <th>INSTALLMENTS_PURCHASES</th>\n",
       "      <th>CASH_ADVANCE</th>\n",
       "      <th>PURCHASES_FREQUENCY</th>\n",
       "      <th>ONEOFF_PURCHASES_FREQUENCY</th>\n",
       "      <th>PURCHASES_INSTALLMENTS_FREQUENCY</th>\n",
       "      <th>CASH_ADVANCE_FREQUENCY</th>\n",
       "      <th>CASH_ADVANCE_TRX</th>\n",
       "      <th>PURCHASES_TRX</th>\n",
       "      <th>CREDIT_LIMIT</th>\n",
       "      <th>PAYMENTS</th>\n",
       "      <th>MINIMUM_PAYMENTS</th>\n",
       "      <th>PRC_FULL_PAYMENT</th>\n",
       "      <th>TENURE</th>\n",
       "    </tr>\n",
       "  </thead>\n",
       "  <tbody>\n",
       "    <tr>\n",
       "      <th>0</th>\n",
       "      <td>C10001</td>\n",
       "      <td>40.900749</td>\n",
       "      <td>0.818182</td>\n",
       "      <td>95.40</td>\n",
       "      <td>0.00</td>\n",
       "      <td>95.4</td>\n",
       "      <td>0.000000</td>\n",
       "      <td>0.166667</td>\n",
       "      <td>0.000000</td>\n",
       "      <td>0.083333</td>\n",
       "      <td>0.000000</td>\n",
       "      <td>0</td>\n",
       "      <td>2</td>\n",
       "      <td>1000.0</td>\n",
       "      <td>201.802084</td>\n",
       "      <td>139.509787</td>\n",
       "      <td>0.000000</td>\n",
       "      <td>12</td>\n",
       "    </tr>\n",
       "    <tr>\n",
       "      <th>1</th>\n",
       "      <td>C10002</td>\n",
       "      <td>3202.467416</td>\n",
       "      <td>0.909091</td>\n",
       "      <td>0.00</td>\n",
       "      <td>0.00</td>\n",
       "      <td>0.0</td>\n",
       "      <td>6442.945483</td>\n",
       "      <td>0.000000</td>\n",
       "      <td>0.000000</td>\n",
       "      <td>0.000000</td>\n",
       "      <td>0.250000</td>\n",
       "      <td>4</td>\n",
       "      <td>0</td>\n",
       "      <td>7000.0</td>\n",
       "      <td>4103.032597</td>\n",
       "      <td>1072.340217</td>\n",
       "      <td>0.222222</td>\n",
       "      <td>12</td>\n",
       "    </tr>\n",
       "    <tr>\n",
       "      <th>2</th>\n",
       "      <td>C10003</td>\n",
       "      <td>2495.148862</td>\n",
       "      <td>1.000000</td>\n",
       "      <td>773.17</td>\n",
       "      <td>773.17</td>\n",
       "      <td>0.0</td>\n",
       "      <td>0.000000</td>\n",
       "      <td>1.000000</td>\n",
       "      <td>1.000000</td>\n",
       "      <td>0.000000</td>\n",
       "      <td>0.000000</td>\n",
       "      <td>0</td>\n",
       "      <td>12</td>\n",
       "      <td>7500.0</td>\n",
       "      <td>622.066742</td>\n",
       "      <td>627.284787</td>\n",
       "      <td>0.000000</td>\n",
       "      <td>12</td>\n",
       "    </tr>\n",
       "    <tr>\n",
       "      <th>3</th>\n",
       "      <td>C10004</td>\n",
       "      <td>1666.670542</td>\n",
       "      <td>0.636364</td>\n",
       "      <td>1499.00</td>\n",
       "      <td>1499.00</td>\n",
       "      <td>0.0</td>\n",
       "      <td>205.788017</td>\n",
       "      <td>0.083333</td>\n",
       "      <td>0.083333</td>\n",
       "      <td>0.000000</td>\n",
       "      <td>0.083333</td>\n",
       "      <td>1</td>\n",
       "      <td>1</td>\n",
       "      <td>7500.0</td>\n",
       "      <td>0.000000</td>\n",
       "      <td>NaN</td>\n",
       "      <td>0.000000</td>\n",
       "      <td>12</td>\n",
       "    </tr>\n",
       "    <tr>\n",
       "      <th>4</th>\n",
       "      <td>C10005</td>\n",
       "      <td>817.714335</td>\n",
       "      <td>1.000000</td>\n",
       "      <td>16.00</td>\n",
       "      <td>16.00</td>\n",
       "      <td>0.0</td>\n",
       "      <td>0.000000</td>\n",
       "      <td>0.083333</td>\n",
       "      <td>0.083333</td>\n",
       "      <td>0.000000</td>\n",
       "      <td>0.000000</td>\n",
       "      <td>0</td>\n",
       "      <td>1</td>\n",
       "      <td>1200.0</td>\n",
       "      <td>678.334763</td>\n",
       "      <td>244.791237</td>\n",
       "      <td>0.000000</td>\n",
       "      <td>12</td>\n",
       "    </tr>\n",
       "  </tbody>\n",
       "</table>\n",
       "</div>"
      ],
      "text/plain": [
       "  CUST_ID      BALANCE  BALANCE_FREQUENCY  PURCHASES  ONEOFF_PURCHASES  \\\n",
       "0  C10001    40.900749           0.818182      95.40              0.00   \n",
       "1  C10002  3202.467416           0.909091       0.00              0.00   \n",
       "2  C10003  2495.148862           1.000000     773.17            773.17   \n",
       "3  C10004  1666.670542           0.636364    1499.00           1499.00   \n",
       "4  C10005   817.714335           1.000000      16.00             16.00   \n",
       "\n",
       "   INSTALLMENTS_PURCHASES  CASH_ADVANCE  PURCHASES_FREQUENCY  \\\n",
       "0                    95.4      0.000000             0.166667   \n",
       "1                     0.0   6442.945483             0.000000   \n",
       "2                     0.0      0.000000             1.000000   \n",
       "3                     0.0    205.788017             0.083333   \n",
       "4                     0.0      0.000000             0.083333   \n",
       "\n",
       "   ONEOFF_PURCHASES_FREQUENCY  PURCHASES_INSTALLMENTS_FREQUENCY  \\\n",
       "0                    0.000000                          0.083333   \n",
       "1                    0.000000                          0.000000   \n",
       "2                    1.000000                          0.000000   \n",
       "3                    0.083333                          0.000000   \n",
       "4                    0.083333                          0.000000   \n",
       "\n",
       "   CASH_ADVANCE_FREQUENCY  CASH_ADVANCE_TRX  PURCHASES_TRX  CREDIT_LIMIT  \\\n",
       "0                0.000000                 0              2        1000.0   \n",
       "1                0.250000                 4              0        7000.0   \n",
       "2                0.000000                 0             12        7500.0   \n",
       "3                0.083333                 1              1        7500.0   \n",
       "4                0.000000                 0              1        1200.0   \n",
       "\n",
       "      PAYMENTS  MINIMUM_PAYMENTS  PRC_FULL_PAYMENT  TENURE  \n",
       "0   201.802084        139.509787          0.000000      12  \n",
       "1  4103.032597       1072.340217          0.222222      12  \n",
       "2   622.066742        627.284787          0.000000      12  \n",
       "3     0.000000               NaN          0.000000      12  \n",
       "4   678.334763        244.791237          0.000000      12  "
      ]
     },
     "execution_count": 8,
     "metadata": {},
     "output_type": "execute_result"
    }
   ],
   "source": [
    "df.head()"
   ]
  },
  {
   "cell_type": "markdown",
   "metadata": {},
   "source": [
    "### Xem tóm tắt tập dữ liệu"
   ]
  },
  {
   "cell_type": "code",
   "execution_count": 9,
   "metadata": {},
   "outputs": [
    {
     "name": "stdout",
     "output_type": "stream",
     "text": [
      "<class 'pandas.core.frame.DataFrame'>\n",
      "RangeIndex: 8950 entries, 0 to 8949\n",
      "Data columns (total 18 columns):\n",
      " #   Column                            Non-Null Count  Dtype  \n",
      "---  ------                            --------------  -----  \n",
      " 0   CUST_ID                           8950 non-null   object \n",
      " 1   BALANCE                           8950 non-null   float64\n",
      " 2   BALANCE_FREQUENCY                 8950 non-null   float64\n",
      " 3   PURCHASES                         8950 non-null   float64\n",
      " 4   ONEOFF_PURCHASES                  8950 non-null   float64\n",
      " 5   INSTALLMENTS_PURCHASES            8950 non-null   float64\n",
      " 6   CASH_ADVANCE                      8950 non-null   float64\n",
      " 7   PURCHASES_FREQUENCY               8950 non-null   float64\n",
      " 8   ONEOFF_PURCHASES_FREQUENCY        8950 non-null   float64\n",
      " 9   PURCHASES_INSTALLMENTS_FREQUENCY  8950 non-null   float64\n",
      " 10  CASH_ADVANCE_FREQUENCY            8950 non-null   float64\n",
      " 11  CASH_ADVANCE_TRX                  8950 non-null   int64  \n",
      " 12  PURCHASES_TRX                     8950 non-null   int64  \n",
      " 13  CREDIT_LIMIT                      8949 non-null   float64\n",
      " 14  PAYMENTS                          8950 non-null   float64\n",
      " 15  MINIMUM_PAYMENTS                  8637 non-null   float64\n",
      " 16  PRC_FULL_PAYMENT                  8950 non-null   float64\n",
      " 17  TENURE                            8950 non-null   int64  \n",
      "dtypes: float64(14), int64(3), object(1)\n",
      "memory usage: 1.2+ MB\n"
     ]
    }
   ],
   "source": [
    "df.info()"
   ]
  },
  {
   "cell_type": "markdown",
   "metadata": {},
   "source": [
    "### Kiểm tra các giá trị còn thiếu trong tập dữ liệu"
   ]
  },
  {
   "cell_type": "code",
   "execution_count": 12,
   "metadata": {},
   "outputs": [
    {
     "data": {
      "text/plain": [
       "CUST_ID                             0\n",
       "BALANCE                             0\n",
       "BALANCE_FREQUENCY                   0\n",
       "PURCHASES                           0\n",
       "ONEOFF_PURCHASES                    0\n",
       "INSTALLMENTS_PURCHASES              0\n",
       "CASH_ADVANCE                        0\n",
       "PURCHASES_FREQUENCY                 0\n",
       "ONEOFF_PURCHASES_FREQUENCY          0\n",
       "PURCHASES_INSTALLMENTS_FREQUENCY    0\n",
       "CASH_ADVANCE_FREQUENCY              0\n",
       "CASH_ADVANCE_TRX                    0\n",
       "PURCHASES_TRX                       0\n",
       "PAYMENTS                            0\n",
       "PRC_FULL_PAYMENT                    0\n",
       "TENURE                              0\n",
       "dtype: int64"
      ]
     },
     "execution_count": 12,
     "metadata": {},
     "output_type": "execute_result"
    }
   ],
   "source": [
    "df.isnull().sum()"
   ]
  },
  {
   "cell_type": "markdown",
   "metadata": {},
   "source": [
    "Chúng ta có thể thấy có 2 cột dư thừa trong tập dữ liệu. Chúng ta nên bỏ chúng "
   ]
  },
  {
   "cell_type": "markdown",
   "metadata": {},
   "source": [
    "### Loại bỏ các cột thừa"
   ]
  },
  {
   "cell_type": "code",
   "execution_count": 11,
   "metadata": {},
   "outputs": [],
   "source": [
    "df.drop(['MINIMUM_PAYMENTS', 'CREDIT_LIMIT', ], axis=1, inplace=True)"
   ]
  },
  {
   "cell_type": "markdown",
   "metadata": {},
   "source": [
    "### Xem lại bản tóm tắt của tập dữ liệu"
   ]
  },
  {
   "cell_type": "code",
   "execution_count": 13,
   "metadata": {},
   "outputs": [
    {
     "name": "stdout",
     "output_type": "stream",
     "text": [
      "<class 'pandas.core.frame.DataFrame'>\n",
      "RangeIndex: 8950 entries, 0 to 8949\n",
      "Data columns (total 16 columns):\n",
      " #   Column                            Non-Null Count  Dtype  \n",
      "---  ------                            --------------  -----  \n",
      " 0   CUST_ID                           8950 non-null   object \n",
      " 1   BALANCE                           8950 non-null   float64\n",
      " 2   BALANCE_FREQUENCY                 8950 non-null   float64\n",
      " 3   PURCHASES                         8950 non-null   float64\n",
      " 4   ONEOFF_PURCHASES                  8950 non-null   float64\n",
      " 5   INSTALLMENTS_PURCHASES            8950 non-null   float64\n",
      " 6   CASH_ADVANCE                      8950 non-null   float64\n",
      " 7   PURCHASES_FREQUENCY               8950 non-null   float64\n",
      " 8   ONEOFF_PURCHASES_FREQUENCY        8950 non-null   float64\n",
      " 9   PURCHASES_INSTALLMENTS_FREQUENCY  8950 non-null   float64\n",
      " 10  CASH_ADVANCE_FREQUENCY            8950 non-null   float64\n",
      " 11  CASH_ADVANCE_TRX                  8950 non-null   int64  \n",
      " 12  PURCHASES_TRX                     8950 non-null   int64  \n",
      " 13  PAYMENTS                          8950 non-null   float64\n",
      " 14  PRC_FULL_PAYMENT                  8950 non-null   float64\n",
      " 15  TENURE                            8950 non-null   int64  \n",
      "dtypes: float64(12), int64(3), object(1)\n",
      "memory usage: 1.1+ MB\n"
     ]
    }
   ],
   "source": [
    "df.info()"
   ]
  },
  {
   "cell_type": "markdown",
   "metadata": {},
   "source": [
    "Bây giờ, chúng ta có thể thấy các cột thừa đã bị xóa khỏi tập dữ liệu. \n",
    "\n",
    "Chúng ta có thể thấy rằng. Có 12 kiểu dữ liệu float và 3 kiểu int và một object vậy là đữ liệu int và folat đã được xác thực là dữ liệu hữu ích, còn lại là object để đơn giản hóa dữ liệu ta cần kiểm tra nó có sử dụng được không"
   ]
  },
  {
   "cell_type": "markdown",
   "metadata": {},
   "source": [
    "### Tiến hành kiểm tra `CUST_ID`"
   ]
  },
  {
   "cell_type": "code",
   "execution_count": 15,
   "metadata": {},
   "outputs": [
    {
     "data": {
      "text/plain": [
       "array(['C10001', 'C10002', 'C10003', ..., 'C19188', 'C19189', 'C19190'],\n",
       "      dtype=object)"
      ]
     },
     "execution_count": 15,
     "metadata": {},
     "output_type": "execute_result"
    }
   ],
   "source": [
    "df['CUST_ID'].unique()"
   ]
  },
  {
   "cell_type": "code",
   "execution_count": 17,
   "metadata": {},
   "outputs": [
    {
     "data": {
      "text/plain": [
       "8950"
      ]
     },
     "execution_count": 17,
     "metadata": {},
     "output_type": "execute_result"
    }
   ],
   "source": [
    "# view how many different types of variables are there\n",
    "\n",
    "len(df['CUST_ID'].unique())"
   ]
  },
  {
   "cell_type": "markdown",
   "metadata": {},
   "source": [
    "Chúng ta thấy rằng có 8950  unique labels và Tổng số bản ghi trong tập dữ liệu là 8950 vậy nó là một Unique Identifier không đem lại thông tin hữu ích để dự đoán hay phân loại cần được loại bỏ để đơn giản hóa dữ liệu "
   ]
  },
  {
   "cell_type": "markdown",
   "metadata": {},
   "source": [
    "### Tiến hành Bỏ biến `CUST_ID` khỏi tập dữ liệu"
   ]
  },
  {
   "cell_type": "code",
   "execution_count": 19,
   "metadata": {},
   "outputs": [],
   "source": [
    "df.drop(['CUST_ID',], axis=1, inplace=True)"
   ]
  },
  {
   "cell_type": "code",
   "execution_count": null,
   "metadata": {},
   "outputs": [],
   "source": []
  }
 ],
 "metadata": {
  "kernelspec": {
   "display_name": "Python 3",
   "language": "python",
   "name": "python3"
  },
  "language_info": {
   "codemirror_mode": {
    "name": "ipython",
    "version": 3
   },
   "file_extension": ".py",
   "mimetype": "text/x-python",
   "name": "python",
   "nbconvert_exporter": "python",
   "pygments_lexer": "ipython3",
   "version": "3.10.11"
  }
 },
 "nbformat": 4,
 "nbformat_minor": 2
}
